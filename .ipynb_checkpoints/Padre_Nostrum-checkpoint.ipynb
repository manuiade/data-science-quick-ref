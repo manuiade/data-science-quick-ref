{
 "cells": [
  {
   "cell_type": "markdown",
   "metadata": {},
   "source": [
    "# DATA SCIENCE QUICK REFERENCE CHEAT SHEET"
   ]
  },
  {
   "cell_type": "markdown",
   "metadata": {},
   "source": [
    "# 0) PREPARING DATASET"
   ]
  },
  {
   "cell_type": "markdown",
   "metadata": {},
   "source": [
    "### 0.1) Importing main libraries"
   ]
  },
  {
   "cell_type": "code",
   "execution_count": 1,
   "metadata": {},
   "outputs": [],
   "source": [
    "# Importing main libraries\n",
    "import numpy as np\n",
    "import pandas as pd\n",
    "import matplotlib.pyplot as plt\n",
    "import time"
   ]
  },
  {
   "cell_type": "markdown",
   "metadata": {},
   "source": [
    "### 0.2) Load dataset"
   ]
  },
  {
   "cell_type": "code",
   "execution_count": 2,
   "metadata": {},
   "outputs": [],
   "source": [
    "# Load csv dataset in a pandas Dataframe\n",
    "dataset = pd.read_csv(\"wildlife0901.csv\",delimiter=';') # Option header='None' makes you lose column names"
   ]
  },
  {
   "cell_type": "markdown",
   "metadata": {},
   "source": [
    "# 1) Dataset analysis"
   ]
  },
  {
   "cell_type": "markdown",
   "metadata": {},
   "source": [
    "### 1.1 Explore dataset"
   ]
  },
  {
   "cell_type": "code",
   "execution_count": 3,
   "metadata": {},
   "outputs": [
    {
     "data": {
      "text/html": [
       "<div>\n",
       "<style scoped>\n",
       "    .dataframe tbody tr th:only-of-type {\n",
       "        vertical-align: middle;\n",
       "    }\n",
       "\n",
       "    .dataframe tbody tr th {\n",
       "        vertical-align: top;\n",
       "    }\n",
       "\n",
       "    .dataframe thead th {\n",
       "        text-align: right;\n",
       "    }\n",
       "</style>\n",
       "<table border=\"1\" class=\"dataframe\">\n",
       "  <thead>\n",
       "    <tr style=\"text-align: right;\">\n",
       "      <th></th>\n",
       "      <th>AC_MASS</th>\n",
       "      <th>NUM_ENGS</th>\n",
       "      <th>INCIDENT_MONTH</th>\n",
       "      <th>INCIDENT_YEAR</th>\n",
       "      <th>HEIGHT</th>\n",
       "      <th>SPEED</th>\n",
       "      <th>PHASE_OF_FLT</th>\n",
       "      <th>BIRDS_STRUCK</th>\n",
       "    </tr>\n",
       "  </thead>\n",
       "  <tbody>\n",
       "    <tr>\n",
       "      <th>count</th>\n",
       "      <td>16122.000000</td>\n",
       "      <td>16092.000000</td>\n",
       "      <td>16122.000000</td>\n",
       "      <td>16122.000000</td>\n",
       "      <td>16122.000000</td>\n",
       "      <td>16122.000000</td>\n",
       "      <td>16122.000000</td>\n",
       "      <td>16122.000000</td>\n",
       "    </tr>\n",
       "    <tr>\n",
       "      <th>mean</th>\n",
       "      <td>3.510545</td>\n",
       "      <td>1.983532</td>\n",
       "      <td>6.995782</td>\n",
       "      <td>2011.754559</td>\n",
       "      <td>1082.979593</td>\n",
       "      <td>144.192160</td>\n",
       "      <td>3.236571</td>\n",
       "      <td>1.148741</td>\n",
       "    </tr>\n",
       "    <tr>\n",
       "      <th>std</th>\n",
       "      <td>0.879810</td>\n",
       "      <td>0.387377</td>\n",
       "      <td>2.844171</td>\n",
       "      <td>1.255119</td>\n",
       "      <td>1915.268584</td>\n",
       "      <td>45.974949</td>\n",
       "      <td>1.708118</td>\n",
       "      <td>0.382882</td>\n",
       "    </tr>\n",
       "    <tr>\n",
       "      <th>min</th>\n",
       "      <td>1.000000</td>\n",
       "      <td>1.000000</td>\n",
       "      <td>1.000000</td>\n",
       "      <td>2010.000000</td>\n",
       "      <td>0.000000</td>\n",
       "      <td>0.000000</td>\n",
       "      <td>1.000000</td>\n",
       "      <td>0.000000</td>\n",
       "    </tr>\n",
       "    <tr>\n",
       "      <th>25%</th>\n",
       "      <td>3.000000</td>\n",
       "      <td>2.000000</td>\n",
       "      <td>5.000000</td>\n",
       "      <td>2011.000000</td>\n",
       "      <td>0.000000</td>\n",
       "      <td>120.000000</td>\n",
       "      <td>2.000000</td>\n",
       "      <td>1.000000</td>\n",
       "    </tr>\n",
       "    <tr>\n",
       "      <th>50%</th>\n",
       "      <td>4.000000</td>\n",
       "      <td>2.000000</td>\n",
       "      <td>7.000000</td>\n",
       "      <td>2012.000000</td>\n",
       "      <td>200.000000</td>\n",
       "      <td>140.000000</td>\n",
       "      <td>2.000000</td>\n",
       "      <td>1.000000</td>\n",
       "    </tr>\n",
       "    <tr>\n",
       "      <th>75%</th>\n",
       "      <td>4.000000</td>\n",
       "      <td>2.000000</td>\n",
       "      <td>9.000000</td>\n",
       "      <td>2013.000000</td>\n",
       "      <td>1300.000000</td>\n",
       "      <td>160.000000</td>\n",
       "      <td>4.000000</td>\n",
       "      <td>1.000000</td>\n",
       "    </tr>\n",
       "    <tr>\n",
       "      <th>max</th>\n",
       "      <td>5.000000</td>\n",
       "      <td>4.000000</td>\n",
       "      <td>12.000000</td>\n",
       "      <td>2014.000000</td>\n",
       "      <td>21000.000000</td>\n",
       "      <td>500.000000</td>\n",
       "      <td>7.000000</td>\n",
       "      <td>4.000000</td>\n",
       "    </tr>\n",
       "  </tbody>\n",
       "</table>\n",
       "</div>"
      ],
      "text/plain": [
       "            AC_MASS      NUM_ENGS  INCIDENT_MONTH  INCIDENT_YEAR  \\\n",
       "count  16122.000000  16092.000000    16122.000000   16122.000000   \n",
       "mean       3.510545      1.983532        6.995782    2011.754559   \n",
       "std        0.879810      0.387377        2.844171       1.255119   \n",
       "min        1.000000      1.000000        1.000000    2010.000000   \n",
       "25%        3.000000      2.000000        5.000000    2011.000000   \n",
       "50%        4.000000      2.000000        7.000000    2012.000000   \n",
       "75%        4.000000      2.000000        9.000000    2013.000000   \n",
       "max        5.000000      4.000000       12.000000    2014.000000   \n",
       "\n",
       "             HEIGHT         SPEED  PHASE_OF_FLT  BIRDS_STRUCK  \n",
       "count  16122.000000  16122.000000  16122.000000  16122.000000  \n",
       "mean    1082.979593    144.192160      3.236571      1.148741  \n",
       "std     1915.268584     45.974949      1.708118      0.382882  \n",
       "min        0.000000      0.000000      1.000000      0.000000  \n",
       "25%        0.000000    120.000000      2.000000      1.000000  \n",
       "50%      200.000000    140.000000      2.000000      1.000000  \n",
       "75%     1300.000000    160.000000      4.000000      1.000000  \n",
       "max    21000.000000    500.000000      7.000000      4.000000  "
      ]
     },
     "execution_count": 3,
     "metadata": {},
     "output_type": "execute_result"
    }
   ],
   "source": [
    "# Descriptive statistics of features (mean, standard deviation, min, max ecc..)\n",
    "dataset.describe()"
   ]
  },
  {
   "cell_type": "code",
   "execution_count": 4,
   "metadata": {},
   "outputs": [
    {
     "data": {
      "text/plain": [
       "AC_CLASS           object\n",
       "AC_MASS             int64\n",
       "NUM_ENGS          float64\n",
       "INCIDENT_MONTH      int64\n",
       "INCIDENT_YEAR       int64\n",
       "HEIGHT              int64\n",
       "SPEED               int64\n",
       "PHASE_OF_FLT        int64\n",
       "DAMAGE             object\n",
       "BIRDS_STRUCK        int64\n",
       "SIZE               object\n",
       "WARNED             object\n",
       "dtype: object"
      ]
     },
     "execution_count": 4,
     "metadata": {},
     "output_type": "execute_result"
    }
   ],
   "source": [
    "# Check column data type (make sure to do this after each operation to ensure that everything is ok)\n",
    "dataset.dtypes"
   ]
  },
  {
   "cell_type": "code",
   "execution_count": 5,
   "metadata": {},
   "outputs": [
    {
     "data": {
      "text/plain": [
       "(16122, 12)"
      ]
     },
     "execution_count": 5,
     "metadata": {},
     "output_type": "execute_result"
    }
   ],
   "source": [
    "# Dataset dimension\n",
    "dataset.shape"
   ]
  },
  {
   "cell_type": "code",
   "execution_count": 6,
   "metadata": {},
   "outputs": [
    {
     "name": "stdout",
     "output_type": "stream",
     "text": [
      "Index(['AC_CLASS', 'AC_MASS', 'NUM_ENGS', 'INCIDENT_MONTH', 'INCIDENT_YEAR',\n",
      "       'HEIGHT', 'SPEED', 'PHASE_OF_FLT', 'DAMAGE', 'BIRDS_STRUCK', 'SIZE',\n",
      "       'WARNED'],\n",
      "      dtype='object')\n"
     ]
    }
   ],
   "source": [
    "# Column names\n",
    "print(dataset.columns)\n",
    "\n",
    "# Rename columns\n",
    "renamed = pd.DataFrame(dataset, columns=dataset.columns) # Here I use the original column names for simplicity"
   ]
  },
  {
   "cell_type": "code",
   "execution_count": 7,
   "metadata": {},
   "outputs": [
    {
     "data": {
      "text/plain": [
       "AC_CLASS\n",
       "A    15617\n",
       "B      482\n",
       "dtype: int64"
      ]
     },
     "execution_count": 7,
     "metadata": {},
     "output_type": "execute_result"
    }
   ],
   "source": [
    "# Count the possible values assumed by a feature, excluding null values\n",
    "dataset.groupby(['AC_CLASS']).size()"
   ]
  },
  {
   "cell_type": "code",
   "execution_count": 8,
   "metadata": {},
   "outputs": [
    {
     "data": {
      "text/plain": [
       "AC_CLASS\n",
       "A    2273978\n",
       "B      48535\n",
       "Name: SPEED, dtype: int64"
      ]
     },
     "execution_count": 8,
     "metadata": {},
     "output_type": "execute_result"
    }
   ],
   "source": [
    "# Add the values of a feature to the desired grouping\n",
    "dataset['SPEED'].groupby([dataset['AC_CLASS']]).sum()"
   ]
  },
  {
   "cell_type": "code",
   "execution_count": 9,
   "metadata": {},
   "outputs": [
    {
     "data": {
      "text/plain": [
       "<AxesSubplot:xlabel='AC_CLASS'>"
      ]
     },
     "execution_count": 9,
     "metadata": {},
     "output_type": "execute_result"
    },
    {
     "data": {
      "image/png": "[encoded data removed]",
      "text/plain": [
       "<Figure size 432x288 with 1 Axes>"
      ]
     },
     "metadata": {
      "needs_background": "light"
     },
     "output_type": "display_data"
    }
   ],
   "source": [
    "# Groupings on two features, using unstack to have a matrix shape\n",
    "x = dataset.groupby(['AC_CLASS','INCIDENT_MONTH']).size().unstack()\n",
    "\n",
    "# Plotting the grouping with a histogram\n",
    "x.plot(kind='bar')"
   ]
  },
  {
   "cell_type": "code",
   "execution_count": 10,
   "metadata": {},
   "outputs": [
    {
     "data": {
      "text/plain": [
       "<AxesSubplot:xlabel='AC_CLASS'>"
      ]
     },
     "execution_count": 10,
     "metadata": {},
     "output_type": "execute_result"
    },
    {
     "data": {
      "image/png": "[encoded data removed]",
      "text/plain": [
       "<Figure size 432x288 with 1 Axes>"
      ]
     },
     "metadata": {
      "needs_background": "light"
     },
     "output_type": "display_data"
    }
   ],
   "source": [
    "# Find the maximum relative to a feature for the desired grouping\n",
    "x = dataset.groupby(['AC_CLASS','INCIDENT_MONTH'])['SPEED'].max().unstack()\n",
    "\n",
    "# Plotting the grouping with a histogram\n",
    "x.plot(kind='bar')"
   ]
  },
  {
   "cell_type": "code",
   "execution_count": 11,
   "metadata": {},
   "outputs": [
    {
     "data": {
      "text/plain": [
       "<AxesSubplot:>"
      ]
     },
     "execution_count": 11,
     "metadata": {},
     "output_type": "execute_result"
    },
    {
     "data": {
      "image/png": "[encoded data removed]",
      "text/plain": [
       "<Figure size 432x288 with 1 Axes>"
      ]
     },
     "metadata": {
      "needs_background": "light"
     },
     "output_type": "display_data"
    }
   ],
   "source": [
    "# Plot multiple features (this notation is also used to select multiple columns from the dataset)\n",
    "dataset[['SPEED','HEIGHT']].plot()"
   ]
  },
  {
   "cell_type": "code",
   "execution_count": 12,
   "metadata": {},
   "outputs": [
    {
     "data": {
      "text/html": [
       "<div>\n",
       "<style scoped>\n",
       "    .dataframe tbody tr th:only-of-type {\n",
       "        vertical-align: middle;\n",
       "    }\n",
       "\n",
       "    .dataframe tbody tr th {\n",
       "        vertical-align: top;\n",
       "    }\n",
       "\n",
       "    .dataframe thead th {\n",
       "        text-align: right;\n",
       "    }\n",
       "</style>\n",
       "<table border=\"1\" class=\"dataframe\">\n",
       "  <thead>\n",
       "    <tr style=\"text-align: right;\">\n",
       "      <th></th>\n",
       "      <th>AC_CLASS</th>\n",
       "      <th>AC_MASS</th>\n",
       "      <th>NUM_ENGS</th>\n",
       "      <th>INCIDENT_MONTH</th>\n",
       "      <th>INCIDENT_YEAR</th>\n",
       "      <th>HEIGHT</th>\n",
       "      <th>SPEED</th>\n",
       "      <th>PHASE_OF_FLT</th>\n",
       "      <th>DAMAGE</th>\n",
       "      <th>BIRDS_STRUCK</th>\n",
       "      <th>SIZE</th>\n",
       "      <th>WARNED</th>\n",
       "    </tr>\n",
       "  </thead>\n",
       "  <tbody>\n",
       "    <tr>\n",
       "      <th>29</th>\n",
       "      <td>B</td>\n",
       "      <td>2</td>\n",
       "      <td>1.0</td>\n",
       "      <td>6</td>\n",
       "      <td>2010</td>\n",
       "      <td>3</td>\n",
       "      <td>5</td>\n",
       "      <td>1</td>\n",
       "      <td>N</td>\n",
       "      <td>1</td>\n",
       "      <td>Small</td>\n",
       "      <td>N</td>\n",
       "    </tr>\n",
       "    <tr>\n",
       "      <th>30</th>\n",
       "      <td>B</td>\n",
       "      <td>1</td>\n",
       "      <td>1.0</td>\n",
       "      <td>4</td>\n",
       "      <td>2014</td>\n",
       "      <td>5</td>\n",
       "      <td>5</td>\n",
       "      <td>1</td>\n",
       "      <td>N</td>\n",
       "      <td>1</td>\n",
       "      <td>Small</td>\n",
       "      <td>Y</td>\n",
       "    </tr>\n",
       "    <tr>\n",
       "      <th>31</th>\n",
       "      <td>B</td>\n",
       "      <td>2</td>\n",
       "      <td>1.0</td>\n",
       "      <td>7</td>\n",
       "      <td>2011</td>\n",
       "      <td>5</td>\n",
       "      <td>5</td>\n",
       "      <td>1</td>\n",
       "      <td>N</td>\n",
       "      <td>1</td>\n",
       "      <td>Medium</td>\n",
       "      <td>Y</td>\n",
       "    </tr>\n",
       "    <tr>\n",
       "      <th>43</th>\n",
       "      <td>A</td>\n",
       "      <td>4</td>\n",
       "      <td>2.0</td>\n",
       "      <td>6</td>\n",
       "      <td>2010</td>\n",
       "      <td>25</td>\n",
       "      <td>0</td>\n",
       "      <td>2</td>\n",
       "      <td>N</td>\n",
       "      <td>1</td>\n",
       "      <td>Small</td>\n",
       "      <td>Y</td>\n",
       "    </tr>\n",
       "    <tr>\n",
       "      <th>44</th>\n",
       "      <td>A</td>\n",
       "      <td>1</td>\n",
       "      <td>1.0</td>\n",
       "      <td>11</td>\n",
       "      <td>2011</td>\n",
       "      <td>100</td>\n",
       "      <td>1</td>\n",
       "      <td>2</td>\n",
       "      <td>N</td>\n",
       "      <td>1</td>\n",
       "      <td>Small</td>\n",
       "      <td>Y</td>\n",
       "    </tr>\n",
       "    <tr>\n",
       "      <th>...</th>\n",
       "      <td>...</td>\n",
       "      <td>...</td>\n",
       "      <td>...</td>\n",
       "      <td>...</td>\n",
       "      <td>...</td>\n",
       "      <td>...</td>\n",
       "      <td>...</td>\n",
       "      <td>...</td>\n",
       "      <td>...</td>\n",
       "      <td>...</td>\n",
       "      <td>...</td>\n",
       "      <td>...</td>\n",
       "    </tr>\n",
       "    <tr>\n",
       "      <th>14064</th>\n",
       "      <td>A</td>\n",
       "      <td>4</td>\n",
       "      <td>2.0</td>\n",
       "      <td>7</td>\n",
       "      <td>2011</td>\n",
       "      <td>14000</td>\n",
       "      <td>310</td>\n",
       "      <td>6</td>\n",
       "      <td>N</td>\n",
       "      <td>1</td>\n",
       "      <td>Unknown</td>\n",
       "      <td>N</td>\n",
       "    </tr>\n",
       "    <tr>\n",
       "      <th>14065</th>\n",
       "      <td>A</td>\n",
       "      <td>4</td>\n",
       "      <td>2.0</td>\n",
       "      <td>4</td>\n",
       "      <td>2012</td>\n",
       "      <td>9700</td>\n",
       "      <td>320</td>\n",
       "      <td>6</td>\n",
       "      <td>N</td>\n",
       "      <td>1</td>\n",
       "      <td>Unknown</td>\n",
       "      <td>Unknown</td>\n",
       "    </tr>\n",
       "    <tr>\n",
       "      <th>14066</th>\n",
       "      <td>A</td>\n",
       "      <td>4</td>\n",
       "      <td>2.0</td>\n",
       "      <td>8</td>\n",
       "      <td>2013</td>\n",
       "      <td>10500</td>\n",
       "      <td>330</td>\n",
       "      <td>6</td>\n",
       "      <td>N</td>\n",
       "      <td>1</td>\n",
       "      <td>Medium</td>\n",
       "      <td>N</td>\n",
       "    </tr>\n",
       "    <tr>\n",
       "      <th>14067</th>\n",
       "      <td>A</td>\n",
       "      <td>4</td>\n",
       "      <td>2.0</td>\n",
       "      <td>11</td>\n",
       "      <td>2011</td>\n",
       "      <td>11700</td>\n",
       "      <td>335</td>\n",
       "      <td>6</td>\n",
       "      <td>N</td>\n",
       "      <td>1</td>\n",
       "      <td>Unknown</td>\n",
       "      <td>Unknown</td>\n",
       "    </tr>\n",
       "    <tr>\n",
       "      <th>14068</th>\n",
       "      <td>A</td>\n",
       "      <td>4</td>\n",
       "      <td>2.0</td>\n",
       "      <td>10</td>\n",
       "      <td>2013</td>\n",
       "      <td>12000</td>\n",
       "      <td>354</td>\n",
       "      <td>6</td>\n",
       "      <td>N</td>\n",
       "      <td>1</td>\n",
       "      <td>Small</td>\n",
       "      <td>Unknown</td>\n",
       "    </tr>\n",
       "  </tbody>\n",
       "</table>\n",
       "<p>12042 rows × 12 columns</p>\n",
       "</div>"
      ],
      "text/plain": [
       "      AC_CLASS  AC_MASS  NUM_ENGS  INCIDENT_MONTH  INCIDENT_YEAR  HEIGHT  \\\n",
       "29           B        2       1.0               6           2010       3   \n",
       "30           B        1       1.0               4           2014       5   \n",
       "31           B        2       1.0               7           2011       5   \n",
       "43           A        4       2.0               6           2010      25   \n",
       "44           A        1       1.0              11           2011     100   \n",
       "...        ...      ...       ...             ...            ...     ...   \n",
       "14064        A        4       2.0               7           2011   14000   \n",
       "14065        A        4       2.0               4           2012    9700   \n",
       "14066        A        4       2.0               8           2013   10500   \n",
       "14067        A        4       2.0              11           2011   11700   \n",
       "14068        A        4       2.0              10           2013   12000   \n",
       "\n",
       "       SPEED  PHASE_OF_FLT DAMAGE  BIRDS_STRUCK     SIZE   WARNED  \n",
       "29         5             1      N             1    Small        N  \n",
       "30         5             1      N             1    Small        Y  \n",
       "31         5             1      N             1   Medium        Y  \n",
       "43         0             2      N             1    Small        Y  \n",
       "44         1             2      N             1    Small        Y  \n",
       "...      ...           ...    ...           ...      ...      ...  \n",
       "14064    310             6      N             1  Unknown        N  \n",
       "14065    320             6      N             1  Unknown  Unknown  \n",
       "14066    330             6      N             1   Medium        N  \n",
       "14067    335             6      N             1  Unknown  Unknown  \n",
       "14068    354             6      N             1    Small  Unknown  \n",
       "\n",
       "[12042 rows x 12 columns]"
      ]
     },
     "execution_count": 12,
     "metadata": {},
     "output_type": "execute_result"
    }
   ],
   "source": [
    "# Conditional search in dataset\n",
    "dataset[dataset['HEIGHT'] > 0]\n",
    "\n",
    "# Modify dataset columns based on condition\n",
    "#dataset['SPEED'][dataset['HEIGHT'] > 0] = 0"
   ]
  },
  {
   "cell_type": "code",
   "execution_count": 13,
   "metadata": {},
   "outputs": [],
   "source": [
    "# Create a copy of the dataset\n",
    "data = dataset.copy()"
   ]
  },
  {
   "cell_type": "code",
   "execution_count": 14,
   "metadata": {},
   "outputs": [],
   "source": [
    "# Add a new queued column (automatically created if it doesn't exist)\n",
    "\n",
    "data['NEW'] = data['SPEED'] + data['HEIGHT'] # Arithmetic between dataframe values"
   ]
  },
  {
   "cell_type": "code",
   "execution_count": 15,
   "metadata": {},
   "outputs": [
    {
     "data": {
      "text/html": [
       "<div>\n",
       "<style scoped>\n",
       "    .dataframe tbody tr th:only-of-type {\n",
       "        vertical-align: middle;\n",
       "    }\n",
       "\n",
       "    .dataframe tbody tr th {\n",
       "        vertical-align: top;\n",
       "    }\n",
       "\n",
       "    .dataframe thead th {\n",
       "        text-align: right;\n",
       "    }\n",
       "</style>\n",
       "<table border=\"1\" class=\"dataframe\">\n",
       "  <thead>\n",
       "    <tr style=\"text-align: right;\">\n",
       "      <th></th>\n",
       "      <th>SPEED</th>\n",
       "      <th>HEIGHT</th>\n",
       "    </tr>\n",
       "  </thead>\n",
       "  <tbody>\n",
       "    <tr>\n",
       "      <th>6</th>\n",
       "      <td>0</td>\n",
       "      <td>0</td>\n",
       "    </tr>\n",
       "    <tr>\n",
       "      <th>7</th>\n",
       "      <td>0</td>\n",
       "      <td>0</td>\n",
       "    </tr>\n",
       "  </tbody>\n",
       "</table>\n",
       "</div>"
      ],
      "text/plain": [
       "   SPEED  HEIGHT\n",
       "6      0       0\n",
       "7      0       0"
      ]
     },
     "execution_count": 15,
     "metadata": {},
     "output_type": "execute_result"
    }
   ],
   "source": [
    "# Search rows and columns with loc\n",
    "data.loc[[6,7],['SPEED','HEIGHT']]"
   ]
  },
  {
   "cell_type": "code",
   "execution_count": 16,
   "metadata": {},
   "outputs": [],
   "source": [
    "# Get only numeric columns\n",
    "numeric = data._get_numeric_data()"
   ]
  },
  {
   "cell_type": "code",
   "execution_count": 17,
   "metadata": {},
   "outputs": [],
   "source": [
    "# Encode strings with One Hot Encoding, very useful for not making nominal features ordinal\n",
    "dummies = pd.get_dummies(data)"
   ]
  },
  {
   "cell_type": "code",
   "execution_count": 18,
   "metadata": {},
   "outputs": [],
   "source": [
    "# Delete a column\n",
    "dropped = data.drop('NEW',axis=1)"
   ]
  },
  {
   "cell_type": "code",
   "execution_count": 19,
   "metadata": {},
   "outputs": [
    {
     "data": {
      "text/plain": [
       "AC_CLASS          23\n",
       "AC_MASS            0\n",
       "NUM_ENGS          30\n",
       "INCIDENT_MONTH     0\n",
       "INCIDENT_YEAR      0\n",
       "HEIGHT             0\n",
       "SPEED              0\n",
       "PHASE_OF_FLT       0\n",
       "DAMAGE             0\n",
       "BIRDS_STRUCK       0\n",
       "SIZE               0\n",
       "WARNED             0\n",
       "NEW                0\n",
       "dtype: int64"
      ]
     },
     "execution_count": 19,
     "metadata": {},
     "output_type": "execute_result"
    }
   ],
   "source": [
    "# Count how many null values each column has\n",
    "data[data.isna().any(axis=1)] # Print instances with NaN values\n",
    "data.isnull().sum()"
   ]
  },
  {
   "cell_type": "code",
   "execution_count": 20,
   "metadata": {},
   "outputs": [],
   "source": [
    "# Concatenate two datasets\n",
    "#pd.concat([d1, d2], axis=1)"
   ]
  },
  {
   "cell_type": "code",
   "execution_count": 21,
   "metadata": {},
   "outputs": [],
   "source": [
    "# Find the columns that have 0 on all instances\n",
    "find = data.columns[(data == 0).all()] # With any if they have 0 in at least one istance"
   ]
  },
  {
   "cell_type": "code",
   "execution_count": 22,
   "metadata": {},
   "outputs": [],
   "source": [
    "# Find the instances that have a certain value for a certain column\n",
    "find = data[(data['AC_MASS'] == 1)]\n",
    "# Drop these istances from the dataset\n",
    "#data = data.drop(find.index)"
   ]
  },
  {
   "cell_type": "code",
   "execution_count": 23,
   "metadata": {},
   "outputs": [],
   "source": [
    "# Find last X columns (3 in this example)\n",
    "find = data.iloc[:,-3:]"
   ]
  },
  {
   "cell_type": "code",
   "execution_count": 24,
   "metadata": {},
   "outputs": [
    {
     "name": "stderr",
     "output_type": "stream",
     "text": [
      "/home/manuel/Desktop/Git/public/data-science-quick-ref/data-science-quick-ref/lib/python3.6/site-packages/ipykernel_launcher.py:2: UserWarning: Boolean Series key will be reindexed to match DataFrame index.\n",
      "  \n"
     ]
    }
   ],
   "source": [
    "# Select only certain types of rows (2 conditions)\n",
    "data_air = dataset.loc[dataset.HEIGHT > 1000][dataset.SPEED > 300]"
   ]
  },
  {
   "cell_type": "markdown",
   "metadata": {},
   "source": [
    "### 1.2) Data visualization"
   ]
  },
  {
   "cell_type": "code",
   "execution_count": 25,
   "metadata": {},
   "outputs": [
    {
     "data": {
      "image/png": "[encoded data removed]",
      "text/plain": [
       "<Figure size 432x288 with 2 Axes>"
      ]
     },
     "metadata": {
      "needs_background": "light"
     },
     "output_type": "display_data"
    }
   ],
   "source": [
    "# Subplotting example\n",
    "x_data1 = [0.1, 0.2, 0.3, 0.4]\n",
    "y_data1 = [1, 2, 3, 4]\n",
    "\n",
    "x_data2 = [0.1, 0.2, 0.3, 0.4]\n",
    "y_data2 = [1, 4, 9, 16]\n",
    "\n",
    "fig = plt.figure()\n",
    "ax1 = fig.add_subplot(1, 2, 1)\n",
    "ax2 = fig.add_subplot(1, 2, 2)\n",
    "ax1.plot(x_data1, y_data1, label='data 1')\n",
    "ax2.plot(x_data2, y_data2, label='data 2')\n",
    "ax1.set_xlabel('Time (s)')\n",
    "ax1.set_ylabel('Scale (Bananas)')\n",
    "ax1.set_title('first data set')\n",
    "ax1.legend()\n",
    "ax2.set_xlabel('Time (s)')\n",
    "ax2.set_ylabel('Scale (Bananas)')\n",
    "ax2.set_title('second data set')\n",
    "ax2.legend()\n",
    "\n",
    "plt.show()"
   ]
  },
  {
   "cell_type": "code",
   "execution_count": 26,
   "metadata": {},
   "outputs": [
    {
     "data": {
      "image/png": "[encoded data removed]",
      "text/plain": [
       "<Figure size 432x288 with 1 Axes>"
      ]
     },
     "metadata": {
      "needs_background": "light"
     },
     "output_type": "display_data"
    }
   ],
   "source": [
    "# Plot for a feature the values assumed by the training samples with legend on the label and red dashed lines\n",
    "plt.plot(dataset['INCIDENT_MONTH'],'r--',label='incidenti mesi')\n",
    "# Multi plot on the same figure (unscaled features)\n",
    "plt.plot(dataset['INCIDENT_YEAR'],'b--',label='incidenti anni')\n",
    "# Rename axis\n",
    "plt.xlabel(\"Asse x\")\n",
    "plt.ylabel(\"Asse y\")\n",
    "# Plot first 20 samples\n",
    "plt.xlim(0,20)\n",
    "# Show legend\n",
    "plt.legend()\n",
    "plt.show()"
   ]
  },
  {
   "cell_type": "code",
   "execution_count": 27,
   "metadata": {},
   "outputs": [
    {
     "data": {
      "image/png": "[encoded data removed]",
      "text/plain": [
       "<Figure size 432x288 with 8 Axes>"
      ]
     },
     "metadata": {
      "needs_background": "light"
     },
     "output_type": "display_data"
    }
   ],
   "source": [
    "# Plot multiple features without scaling data\n",
    "dataset.plot(subplots=True)\n",
    "plt.show()"
   ]
  },
  {
   "cell_type": "code",
   "execution_count": 28,
   "metadata": {},
   "outputs": [
    {
     "data": {
      "image/png": "[encoded data removed]",
      "text/plain": [
       "<Figure size 432x288 with 9 Axes>"
      ]
     },
     "metadata": {
      "needs_background": "light"
     },
     "output_type": "display_data"
    }
   ],
   "source": [
    "# Plot features with histograms that count how many instances correspond to each label\n",
    "dataset.hist()\n",
    "plt.show()"
   ]
  },
  {
   "cell_type": "code",
   "execution_count": 29,
   "metadata": {},
   "outputs": [
    {
     "data": {
      "image/png": "[encoded data removed]",
      "text/plain": [
       "<Figure size 1440x360 with 1 Axes>"
      ]
     },
     "metadata": {
      "needs_background": "light"
     },
     "output_type": "display_data"
    }
   ],
   "source": [
    "# Histogram on a feature specifying figure size and how many values ​​to count (bins)\n",
    "data['AC_MASS'].hist(figsize=(20,5),bins=3)\n",
    "plt.show()"
   ]
  },
  {
   "cell_type": "code",
   "execution_count": 30,
   "metadata": {},
   "outputs": [
    {
     "data": {
      "image/png": "[encoded data removed]",
      "text/plain": [
       "<Figure size 432x288 with 1 Axes>"
      ]
     },
     "metadata": {
      "needs_background": "light"
     },
     "output_type": "display_data"
    }
   ],
   "source": [
    "# Scatter plot\n",
    "plt.scatter(dataset['BIRDS_STRUCK'], dataset['SPEED'])\n",
    "plt.show()"
   ]
  },
  {
   "cell_type": "code",
   "execution_count": 31,
   "metadata": {},
   "outputs": [
    {
     "data": {
      "image/png": "[encoded data removed]",
      "text/plain": [
       "<Figure size 1440x360 with 64 Axes>"
      ]
     },
     "metadata": {
      "needs_background": "light"
     },
     "output_type": "display_data"
    }
   ],
   "source": [
    "# Scatter matrix (between each feature)\n",
    "pd.plotting.scatter_matrix(dataset, figsize=(20,5))\n",
    "plt.show()"
   ]
  },
  {
   "cell_type": "code",
   "execution_count": 32,
   "metadata": {},
   "outputs": [
    {
     "data": {
      "image/png": "[encoded data removed]",
      "text/plain": [
       "<Figure size 432x288 with 2 Axes>"
      ]
     },
     "metadata": {
      "needs_background": "light"
     },
     "output_type": "display_data"
    }
   ],
   "source": [
    "# Correlation matrix between each pair of attributes, covariance\n",
    "correlations = dataset.corr()\n",
    "fig = plt.figure()\n",
    "ax = fig.add_subplot(111)\n",
    "cax = ax.matshow(correlations,vmin=-1,vmax=1)\n",
    "fig.colorbar(cax)\n",
    "ticks = np.arange(0,9,1)\n",
    "ax.set_xticks(ticks)\n",
    "ax.set_yticks(ticks)\n",
    "plt.show()"
   ]
  },
  {
   "cell_type": "markdown",
   "metadata": {},
   "source": [
    "# 2) Data transformation"
   ]
  },
  {
   "cell_type": "code",
   "execution_count": 33,
   "metadata": {},
   "outputs": [],
   "source": [
    "data = dataset.copy()"
   ]
  },
  {
   "cell_type": "markdown",
   "metadata": {},
   "source": [
    "### 2.1) Data cleaning"
   ]
  },
  {
   "cell_type": "code",
   "execution_count": 34,
   "metadata": {},
   "outputs": [],
   "source": [
    "# Convert strings in a column to uppercase\n",
    "dataset['SIZE'] = dataset['SIZE'].str.upper() #lower for lowercase"
   ]
  },
  {
   "cell_type": "code",
   "execution_count": 35,
   "metadata": {},
   "outputs": [],
   "source": [
    "# Removes rows with at least one null feature\n",
    "data = data.dropna()\n",
    "\n",
    "# Removes rows with all null feature\n",
    "dropped = data.dropna(how='all')\n",
    "\n",
    "# Removes rows with at least 20 null feature\n",
    "dropped = data.dropna(axis=1, thresh=20)"
   ]
  },
  {
   "cell_type": "code",
   "execution_count": 36,
   "metadata": {},
   "outputs": [],
   "source": [
    "# Replace NaN with 0\n",
    "replaced = data.fillna(0)\n",
    "\n",
    "# Replace based on specified columns\n",
    "replaced = data.fillna({1: 0.5, 2: 0})\n",
    "\n",
    "# Replace the NaNs with the average of the column values\n",
    "replaced = data.fillna(data.mean())"
   ]
  },
  {
   "cell_type": "code",
   "execution_count": 37,
   "metadata": {},
   "outputs": [],
   "source": [
    "# Replace nominal values ​​with numbers\n",
    "data = data.replace(['A', 'B'],[1,0])\n",
    "\n",
    "# Replace only a column\n",
    "#uniquev = data['AIR_CLASS'].unique()\n",
    "#data['AIR_CLASS'] = data['AIR_CLASS'].replace(uniquev, np.arange(len(unique)))\n",
    "\n",
    "# Choose only a subset of columns to replace (in this case the strings)\n",
    "toReplace = data.columns[data.dtypes == 'object']\n",
    "\n",
    "# Replace all columns with ordinal numeric values\n",
    "for col in toReplace:\n",
    "    uniquev = data[col].unique()\n",
    "    data[col] = data[col].replace(uniquev, np.arange(len(uniquev)))"
   ]
  },
  {
   "cell_type": "code",
   "execution_count": 38,
   "metadata": {},
   "outputs": [],
   "source": [
    "# Choose only columns with no numeric values\n",
    "dataToLeave = data._get_numeric_data()\n",
    "toDummy = data.columns.drop(dataToLeave.columns)"
   ]
  },
  {
   "cell_type": "code",
   "execution_count": 39,
   "metadata": {},
   "outputs": [],
   "source": [
    "# Replace features with mapping\n",
    "#mmap = {'U':0,'N':1,'M':3,'M?':5,'S':7,'D':9}\n",
    "#data['DAMAGE'] = data['DAMAGE'].map(mmap)"
   ]
  },
  {
   "cell_type": "code",
   "execution_count": 40,
   "metadata": {},
   "outputs": [],
   "source": [
    "# Scaling data in a specified range\n",
    "#for column in data:\n",
    "#    data[column] = pd.cut(data[column], bins=6, labels=False) # 6 is the range\n",
    "#data = data.fillna(0) # Just to be sure\n",
    "# This for example divides a range 100-200 into 6 intervals, then mapping the various examples"
   ]
  },
  {
   "cell_type": "markdown",
   "metadata": {},
   "source": [
    "### 2.2) Scaling data"
   ]
  },
  {
   "cell_type": "code",
   "execution_count": 41,
   "metadata": {},
   "outputs": [
    {
     "data": {
      "text/plain": [
       "array([[1.        , 0.        , 0.        , ..., 0.25      , 0.        ,\n",
       "        0.        ],\n",
       "       [1.        , 0.        , 0.        , ..., 0.25      , 0.33333333,\n",
       "        0.        ],\n",
       "       [1.        , 0.        , 0.        , ..., 0.25      , 0.        ,\n",
       "        0.25      ],\n",
       "       ...,\n",
       "       [1.        , 0.75      , 0.33333333, ..., 0.25      , 0.        ,\n",
       "        0.        ],\n",
       "       [1.        , 0.75      , 0.33333333, ..., 0.25      , 0.        ,\n",
       "        0.        ],\n",
       "       [1.        , 0.75      , 0.33333333, ..., 0.25      , 0.        ,\n",
       "        0.5       ]])"
      ]
     },
     "execution_count": 41,
     "metadata": {},
     "output_type": "execute_result"
    }
   ],
   "source": [
    "# MinMax scaling\n",
    "from sklearn.preprocessing import MinMaxScaler\n",
    "mmsc = MinMaxScaler(feature_range=(0,1))\n",
    "rescaled = mmsc.fit_transform(data)\n",
    "rescaled"
   ]
  },
  {
   "cell_type": "code",
   "execution_count": 42,
   "metadata": {},
   "outputs": [
    {
     "data": {
      "text/plain": [
       "array([[0.00049726, 0.00049726, 0.00049726, ..., 0.00049726, 0.        ,\n",
       "        0.        ],\n",
       "       [0.00049677, 0.00049677, 0.00049677, ..., 0.00049677, 0.00049677,\n",
       "        0.        ],\n",
       "       [0.00049677, 0.00049677, 0.00049677, ..., 0.00049677, 0.        ,\n",
       "        0.00049677],\n",
       "       ...,\n",
       "       [0.00049457, 0.00197829, 0.00098915, ..., 0.00049457, 0.        ,\n",
       "        0.        ],\n",
       "       [0.00049406, 0.00197625, 0.00098812, ..., 0.00049406, 0.        ,\n",
       "        0.        ],\n",
       "       [0.00049406, 0.00197624, 0.00098812, ..., 0.00049406, 0.        ,\n",
       "        0.00098812]])"
      ]
     },
     "execution_count": 42,
     "metadata": {},
     "output_type": "execute_result"
    }
   ],
   "source": [
    "# Normalization scaling\n",
    "from sklearn.preprocessing import Normalizer\n",
    "normalizer = Normalizer()\n",
    "rescaled = normalizer.fit_transform(data)\n",
    "rescaled"
   ]
  },
  {
   "cell_type": "code",
   "execution_count": 43,
   "metadata": {},
   "outputs": [
    {
     "data": {
      "text/plain": [
       "array([[1., 1., 1., ..., 1., 0., 0.],\n",
       "       [1., 1., 1., ..., 1., 1., 0.],\n",
       "       [1., 1., 1., ..., 1., 0., 1.],\n",
       "       ...,\n",
       "       [1., 1., 1., ..., 1., 0., 0.],\n",
       "       [1., 1., 1., ..., 1., 0., 0.],\n",
       "       [1., 1., 1., ..., 1., 0., 1.]])"
      ]
     },
     "execution_count": 43,
     "metadata": {},
     "output_type": "execute_result"
    }
   ],
   "source": [
    "# Binarization scaling\n",
    "from sklearn.preprocessing import Binarizer\n",
    "binarizer = Binarizer(threshold=0.0) # 1 above threshold, 0 otherwise\n",
    "rescaled = binarizer.fit_transform(data)\n",
    "rescaled"
   ]
  },
  {
   "cell_type": "code",
   "execution_count": 44,
   "metadata": {},
   "outputs": [
    {
     "data": {
      "text/plain": [
       "array([[ 0.17572035, -2.87588689, -2.53902953, ..., -0.38896578,\n",
       "        -0.66941131, -0.9375877 ],\n",
       "       [ 0.17572035, -2.87588689, -2.53902953, ..., -0.38896578,\n",
       "         0.35446159, -0.9375877 ],\n",
       "       [ 0.17572035, -2.87588689, -2.53902953, ..., -0.38896578,\n",
       "        -0.66941131,  0.3392963 ],\n",
       "       ...,\n",
       "       [ 0.17572035,  0.55530495,  0.04251234, ..., -0.38896578,\n",
       "        -0.66941131, -0.9375877 ],\n",
       "       [ 0.17572035,  0.55530495,  0.04251234, ..., -0.38896578,\n",
       "        -0.66941131, -0.9375877 ],\n",
       "       [ 0.17572035,  0.55530495,  0.04251234, ..., -0.38896578,\n",
       "        -0.66941131,  1.6161803 ]])"
      ]
     },
     "execution_count": 44,
     "metadata": {},
     "output_type": "execute_result"
    }
   ],
   "source": [
    "# Standardization scaling\n",
    "from sklearn.preprocessing import StandardScaler\n",
    "scaler = StandardScaler()\n",
    "rescaled = scaler.fit_transform(data)\n",
    "rescaled"
   ]
  },
  {
   "cell_type": "markdown",
   "metadata": {},
   "source": [
    "### 2.3) Feature Selection"
   ]
  },
  {
   "cell_type": "code",
   "execution_count": 45,
   "metadata": {},
   "outputs": [],
   "source": [
    "# Get features and labels (also scales data)\n",
    "y = data['SIZE']\n",
    "X = data.drop(['SIZE'],axis=1)\n",
    "from sklearn.preprocessing import Normalizer\n",
    "scaler = Normalizer()\n",
    "X = scaler.fit_transform(X)"
   ]
  },
  {
   "cell_type": "code",
   "execution_count": 46,
   "metadata": {},
   "outputs": [
    {
     "data": {
      "text/plain": [
       "(16092, 4)"
      ]
     },
     "execution_count": 46,
     "metadata": {},
     "output_type": "execute_result"
    }
   ],
   "source": [
    "# Univariate selection\n",
    "from sklearn.feature_selection import SelectKBest\n",
    "from sklearn.feature_selection import chi2\n",
    "test = SelectKBest(score_func=chi2,k=4)\n",
    "fit = test.fit(X,y)\n",
    "features = fit.transform(X)\n",
    "features.shape"
   ]
  },
  {
   "cell_type": "code",
   "execution_count": 47,
   "metadata": {},
   "outputs": [
    {
     "name": "stdout",
     "output_type": "stream",
     "text": [
      "3\n",
      "[False False False False  True  True  True False False False False]\n",
      "[9 4 8 3 1 1 1 5 2 7 6]\n"
     ]
    }
   ],
   "source": [
    "# Recursive Feature Elimination\n",
    "from sklearn.feature_selection import RFE\n",
    "from sklearn.linear_model import LogisticRegression\n",
    "model = LogisticRegression(max_iter=1000) # To ensure convergence\n",
    "rfe = RFE(model,n_features_to_select=3)\n",
    "fit = rfe.fit(X,y)\n",
    "print(fit.n_features_)\n",
    "print(fit.support_)\n",
    "print(fit.ranking_)"
   ]
  },
  {
   "cell_type": "code",
   "execution_count": 48,
   "metadata": {},
   "outputs": [
    {
     "data": {
      "text/plain": [
       "array([[-0.30294661,  0.04221077, -0.05923163],\n",
       "       [-0.3029467 ,  0.04221078, -0.05922966],\n",
       "       [-0.30294665,  0.04221076, -0.05923124],\n",
       "       ...,\n",
       "       [-0.30165747,  0.03710285,  0.03963611],\n",
       "       [-0.30124971,  0.03705325,  0.04945444],\n",
       "       [-0.30124908,  0.03705434,  0.04945418]])"
      ]
     },
     "execution_count": 48,
     "metadata": {},
     "output_type": "execute_result"
    }
   ],
   "source": [
    "# Principal Component Analysis\n",
    "from sklearn.decomposition import PCA\n",
    "pca = PCA(n_components=3)\n",
    "features = pca.fit_transform(X)\n",
    "features"
   ]
  },
  {
   "cell_type": "code",
   "execution_count": 49,
   "metadata": {},
   "outputs": [
    {
     "data": {
      "text/plain": [
       "array([[-4.04834710e-04, -1.95046154e+00, -2.25714929e-02],\n",
       "       [ 1.44274134e+00, -2.48921576e+00, -5.32084784e-01],\n",
       "       [ 9.67035575e-02, -1.53708767e+00,  1.05787356e+00],\n",
       "       ...,\n",
       "       [-8.10378793e-01, -6.45652944e-01, -2.72333032e-01],\n",
       "       [-1.05583802e+00, -4.14707727e-01,  5.84873852e-02],\n",
       "       [-9.19955806e-01,  4.34346137e-01,  2.31271626e+00]])"
      ]
     },
     "execution_count": 49,
     "metadata": {},
     "output_type": "execute_result"
    }
   ],
   "source": [
    "# Linear Discriminant Analysis\n",
    "from sklearn.discriminant_analysis import LinearDiscriminantAnalysis as LDA\n",
    "lda = LDA(n_components=3)\n",
    "features = lda.fit_transform(X,y)\n",
    "features"
   ]
  },
  {
   "cell_type": "code",
   "execution_count": 50,
   "metadata": {},
   "outputs": [
    {
     "data": {
      "text/plain": [
       "array([[-0.41789627, -0.12397562,  0.09728814],\n",
       "       [-0.41789603, -0.12397483,  0.09728678],\n",
       "       [-0.41789793, -0.12397583,  0.09728845],\n",
       "       ...,\n",
       "       [-0.44323929, -0.11624709,  0.08924066],\n",
       "       [-0.43269511, -0.11437779,  0.08646686],\n",
       "       [-0.43266547, -0.11437565,  0.08646288]])"
      ]
     },
     "execution_count": 50,
     "metadata": {},
     "output_type": "execute_result"
    }
   ],
   "source": [
    "# Kernel PCA, slow but effective\n",
    "from sklearn.decomposition import KernelPCA\n",
    "kpca = KernelPCA(n_components=3,kernel='rbf',gamma=15)\n",
    "features = kpca.fit_transform(X)\n",
    "features"
   ]
  },
  {
   "cell_type": "markdown",
   "metadata": {},
   "source": [
    "# 3) Machine learning algorithm evaluation"
   ]
  },
  {
   "cell_type": "markdown",
   "metadata": {},
   "source": [
    "### 3.1) Train models and evaluate thier performance"
   ]
  },
  {
   "cell_type": "code",
   "execution_count": 51,
   "metadata": {},
   "outputs": [],
   "source": [
    "# Split dataset in training and test sets\n",
    "from sklearn.model_selection import train_test_split\n",
    "X_train, X_test, y_train, y_test = train_test_split(X,y,test_size=0.2,random_state=42)"
   ]
  },
  {
   "cell_type": "code",
   "execution_count": 52,
   "metadata": {},
   "outputs": [
    {
     "name": "stdout",
     "output_type": "stream",
     "text": [
      "Accuracy:  0.6607642124883504\n"
     ]
    }
   ],
   "source": [
    "# Train a classificator with Logistic Regression and evaluate accuracy\n",
    "from sklearn.linear_model import LogisticRegression\n",
    "from sklearn.metrics import accuracy_score\n",
    "model = LogisticRegression(max_iter=1000) # To ensure convergence\n",
    "model.fit(X_train,y_train)\n",
    "y_pred = model.predict(X_test)\n",
    "print(\"Accuracy: \",accuracy_score(y_test, y_pred))\n",
    "# or model.score(X_test,y_test)"
   ]
  },
  {
   "cell_type": "code",
   "execution_count": 53,
   "metadata": {},
   "outputs": [
    {
     "name": "stdout",
     "output_type": "stream",
     "text": [
      "Accuracy:  0.36191363777570673\n"
     ]
    }
   ],
   "source": [
    "# Evaluate accuracy with Linear Regression rounding predictions to closest integer\n",
    "from sklearn.linear_model import LinearRegression\n",
    "model = LinearRegression()\n",
    "model.fit(X_train,y_train)\n",
    "y_pred = np.around(model.predict(X_test))\n",
    "print(\"Accuracy: \",accuracy_score(y_test, y_pred))"
   ]
  },
  {
   "cell_type": "code",
   "execution_count": 54,
   "metadata": {},
   "outputs": [
    {
     "name": "stdout",
     "output_type": "stream",
     "text": [
      "Accuracy media:  66.04524240587688\n"
     ]
    }
   ],
   "source": [
    "# I evaluate accuracy of a classifier with k-fold cross validation\n",
    "from sklearn.model_selection import cross_val_score\n",
    "model = LogisticRegression(max_iter=1000)\n",
    "result = cross_val_score(model,X,y,cv=10,scoring='accuracy') # Better 'f1_micro' as scoring\n",
    "# Regression scoring use mean-squared-error\n",
    "print(\"Accuracy media: \",result.mean()*100)"
   ]
  },
  {
   "cell_type": "code",
   "execution_count": 55,
   "metadata": {},
   "outputs": [
    {
     "name": "stdout",
     "output_type": "stream",
     "text": [
      "Mean accuracy:  66.04523987074322\n"
     ]
    }
   ],
   "source": [
    "# Leave One Out Cross Validation (as cv with fold size 1, 1 test set each iteration)\n",
    "from sklearn.model_selection import LeaveOneOut\n",
    "model = LogisticRegression(max_iter=1000)\n",
    "loocv = LeaveOneOut()\n",
    "cross = cross_val_score(model,X,y,cv=loocv)\n",
    "print(\"Mean accuracy: \", cross.mean()*100)\n",
    "# Very slow for large dataset"
   ]
  },
  {
   "cell_type": "code",
   "execution_count": 56,
   "metadata": {},
   "outputs": [
    {
     "name": "stdout",
     "output_type": "stream",
     "text": [
      "Accuracy LR:0.660452(0.000113), time 31.102570\n",
      "Accuracy LDA:0.668904(0.003688), time 1.676284\n",
      "Accuracy KNN:0.523857(0.107308), time 1.205633\n",
      "Accuracy DTC:0.410755(0.112713), time 0.756663\n",
      "Accuracy GNB:0.583759(0.087366), time 0.029106\n",
      "Accuracy SVC:0.660452(0.000113), time 22.613949\n"
     ]
    },
    {
     "data": {
      "image/png": "[encoded data removed]",
      "text/plain": [
       "<Figure size 432x288 with 1 Axes>"
      ]
     },
     "metadata": {
      "needs_background": "light"
     },
     "output_type": "display_data"
    }
   ],
   "source": [
    "# Measure the best accuracy between different classifiers and the time taken\n",
    "from sklearn.linear_model import LogisticRegression\n",
    "from sklearn.discriminant_analysis import LinearDiscriminantAnalysis\n",
    "from sklearn.neighbors import KNeighborsClassifier\n",
    "from sklearn.tree import DecisionTreeClassifier\n",
    "from sklearn.naive_bayes import GaussianNB\n",
    "from sklearn.svm import SVC\n",
    "\n",
    "from sklearn.model_selection import cross_val_score\n",
    "\n",
    "models = []\n",
    "results = []\n",
    "names= []\n",
    "scoring = 'accuracy'\n",
    "\n",
    "models.append(('LR',LogisticRegression(max_iter=1000)))\n",
    "models.append(('LDA',LinearDiscriminantAnalysis()))\n",
    "models.append(('KNN',KNeighborsClassifier()))\n",
    "models.append(('DTC',DecisionTreeClassifier()))\n",
    "models.append(('GNB',GaussianNB()))\n",
    "models.append(('SVC',SVC())) # Slow\n",
    "# View the sklearn documentation for each model's hyperparameters\n",
    "            \n",
    "for name,model in models:\n",
    "    t = time.process_time()\n",
    "    cv_results = cross_val_score(model,X,y,cv=5,scoring=scoring)\n",
    "    t = time.process_time() - t\n",
    "    results.append(cv_results)\n",
    "    names.append(name)\n",
    "    msg=\"Accuracy %s:%f(%f), time %f\"%(name,cv_results.mean(),cv_results.std(),t)\n",
    "    print(msg)\n",
    "\n",
    "fig = plt.figure()\n",
    "fig.suptitle('Algorithm Comparison')\n",
    "ax = fig.add_subplot(111)\n",
    "plt.boxplot(results)\n",
    "ax.set_xticklabels(names)\n",
    "plt.show()"
   ]
  },
  {
   "cell_type": "markdown",
   "metadata": {},
   "source": [
    "### 3.2) Other evaluation metrics"
   ]
  },
  {
   "cell_type": "code",
   "execution_count": 57,
   "metadata": {},
   "outputs": [
    {
     "name": "stdout",
     "output_type": "stream",
     "text": [
      "[[2127    0    0    0]\n",
      " [ 251    0    0    0]\n",
      " [ 673    0    0    0]\n",
      " [ 168    0    0    0]]\n"
     ]
    },
    {
     "data": {
      "image/png": "[encoded data removed]",
      "text/plain": [
       "<Figure size 180x180 with 1 Axes>"
      ]
     },
     "metadata": {
      "needs_background": "light"
     },
     "output_type": "display_data"
    }
   ],
   "source": [
    "# Evaluation metrics: Confusion Matrix\n",
    "from sklearn.metrics import confusion_matrix\n",
    "model = LogisticRegression(max_iter=1000)\n",
    "model.fit(X_train,y_train)\n",
    "y_pred = model.predict(X_test)\n",
    "confmat = confusion_matrix(y_true=y_test,y_pred=y_pred)\n",
    "print(confmat)\n",
    "# Better visualization\n",
    "fig,ax = plt.subplots(figsize=(2.5,2.5))\n",
    "ax.matshow(confmat,cmap=plt.cm.Blues,alpha=0.3)\n",
    "for i in range(confmat.shape[0]):\n",
    "    for j in range(confmat.shape[1]):\n",
    "        ax.text(x=j,y=i,s=confmat[i,j],va='center',ha='center')\n",
    "plt.xlabel('predicted label')\n",
    "plt.ylabel('true label')\n",
    "plt.show()"
   ]
  },
  {
   "cell_type": "code",
   "execution_count": 58,
   "metadata": {},
   "outputs": [
    {
     "name": "stdout",
     "output_type": "stream",
     "text": [
      "Precision:  0.7758451320169993\n",
      "Recall:  [1. 0. 0. 0.]\n",
      "F1_Score:  0.5257932959082384\n",
      "Classification report:                precision    recall  f1-score   support\n",
      "\n",
      "           0       0.66      1.00      0.80      2127\n",
      "           1       0.00      0.00      0.00       251\n",
      "           2       0.00      0.00      0.00       673\n",
      "           3       0.00      0.00      0.00       168\n",
      "\n",
      "    accuracy                           0.66      3219\n",
      "   macro avg       0.17      0.25      0.20      3219\n",
      "weighted avg       0.44      0.66      0.53      3219\n",
      "\n"
     ]
    },
    {
     "name": "stderr",
     "output_type": "stream",
     "text": [
      "/home/manuel/Desktop/Git/public/data-science-quick-ref/data-science-quick-ref/lib/python3.6/site-packages/sklearn/metrics/_classification.py:1221: UndefinedMetricWarning: Precision and F-score are ill-defined and being set to 0.0 in labels with no predicted samples. Use `zero_division` parameter to control this behavior.\n",
      "  _warn_prf(average, modifier, msg_start, len(result))\n"
     ]
    }
   ],
   "source": [
    "# Evaluation metrics: F1-Score, Precision and Recall\n",
    "from sklearn.metrics import precision_score, recall_score, f1_score\n",
    "print(\"Precision: \", precision_score(y_true=y_test,y_pred=y_pred,average='weighted', zero_division=True ))\n",
    "print(\"Recall: \", recall_score(y_true=y_test,y_pred=y_pred,average=None))\n",
    "print(\"F1_Score: \", f1_score(y_true=y_test,y_pred=y_pred,average='weighted', zero_division=True))\n",
    "# NB: use the average attribute as we are in multiclass classification, otherwise it wouldn't be useful\n",
    "\n",
    "# Or same as using average=None\n",
    "from sklearn.metrics import classification_report\n",
    "print(\"Classification report: \", classification_report(y_test, y_pred))"
   ]
  },
  {
   "cell_type": "code",
   "execution_count": 59,
   "metadata": {},
   "outputs": [
    {
     "name": "stdout",
     "output_type": "stream",
     "text": [
      "ROC_AUC score:  0.5\n"
     ]
    }
   ],
   "source": [
    "# Evaluation metrics: Area under the ROC curve\n",
    "from sklearn.metrics import roc_auc_score\n",
    "#print(roc_auc_score(y_true=y_test,y_score=y_pred,average=None))  only for binary classification\n",
    "\n",
    "# For multiclass classification\n",
    "from sklearn.preprocessing import LabelBinarizer\n",
    "from sklearn.metrics import plot_roc_curve\n",
    "lb = LabelBinarizer()\n",
    "lb.fit(y_test)\n",
    "y_test_bin = lb.transform(y_test)\n",
    "y_pred_bin = lb.transform(y_pred)\n",
    "print(\"ROC_AUC score: \", roc_auc_score(y_true=y_test_bin,y_score=y_pred_bin, average='macro'))"
   ]
  },
  {
   "cell_type": "markdown",
   "metadata": {},
   "source": [
    "# 4) Fine tuning model performances"
   ]
  },
  {
   "cell_type": "markdown",
   "metadata": {},
   "source": [
    "### 4.1) Balance datasets"
   ]
  },
  {
   "cell_type": "code",
   "execution_count": 60,
   "metadata": {},
   "outputs": [
    {
     "data": {
      "text/plain": [
       "AC_CLASS\n",
       "0    482\n",
       "1    482\n",
       "dtype: int64"
      ]
     },
     "execution_count": 60,
     "metadata": {},
     "output_type": "execute_result"
    }
   ],
   "source": [
    "# Balance two dataset, cutting biggest dataset\n",
    "# Smaller rules\n",
    "\n",
    "tobalance = data[data['AC_CLASS']==1] # bigger\n",
    "balancer = data[data['AC_CLASS']==0] # smaller\n",
    "\n",
    "tobalance = tobalance.sample(len(balancer))\n",
    "\n",
    "data_bal = pd.concat([balancer, tobalance])\n",
    "data_bal.groupby('AC_CLASS').size()"
   ]
  },
  {
   "cell_type": "code",
   "execution_count": 61,
   "metadata": {},
   "outputs": [
    {
     "data": {
      "text/plain": [
       "AC_CLASS\n",
       "0    5000\n",
       "1    5000\n",
       "dtype: int64"
      ]
     },
     "execution_count": 61,
     "metadata": {},
     "output_type": "execute_result"
    }
   ],
   "source": [
    "# Balance data with resampling\n",
    "# Bigger rules or intermidiate value\n",
    "from sklearn.utils import resample\n",
    "\n",
    "balancer = data[data['AC_CLASS']==1] # bigger\n",
    "tobalance = data[data['AC_CLASS']==0] # smaller\n",
    "\n",
    "# Balance classes\n",
    "tobalance = resample(tobalance, replace=True, n_samples=5000) # Can be also n_samples=len(balancer)\n",
    "balancer = resample(balancer, replace=True, n_samples=5000)\n",
    "\n",
    "data_bal = pd.concat([balancer, tobalance])\n",
    "data_bal.groupby('AC_CLASS').size()"
   ]
  },
  {
   "cell_type": "markdown",
   "metadata": {},
   "source": [
    "### 4.2) Learning curves and validation curves"
   ]
  },
  {
   "cell_type": "code",
   "execution_count": 62,
   "metadata": {},
   "outputs": [
    {
     "data": {
      "image/png": "[encoded data removed]",
      "text/plain": [
       "<Figure size 432x288 with 1 Axes>"
      ]
     },
     "metadata": {
      "needs_background": "light"
     },
     "output_type": "display_data"
    }
   ],
   "source": [
    "from sklearn.model_selection import learning_curve\n",
    "cv = 5\n",
    "scoring = 'f1_micro'\n",
    "model = LogisticRegression(max_iter=1000)\n",
    "n_ticks, train_scores, test_scores = learning_curve(model,\n",
    "                                                    X,\n",
    "                                                    y,\n",
    "                                                    cv=cv,\n",
    "                                                    scoring=scoring\n",
    "                                                   )\n",
    "\n",
    "train = np.mean(train_scores, axis=1)\n",
    "test = np.mean(test_scores, axis=1)\n",
    "\n",
    "plt.plot(n_ticks, train, color='red')\n",
    "plt.plot(n_ticks, test, color='blue')\n",
    "plt.show()"
   ]
  },
  {
   "cell_type": "code",
   "execution_count": 63,
   "metadata": {},
   "outputs": [
    {
     "data": {
      "image/png": "[encoded data removed]",
      "text/plain": [
       "<Figure size 432x288 with 1 Axes>"
      ]
     },
     "metadata": {
      "needs_background": "light"
     },
     "output_type": "display_data"
    },
    {
     "data": {
      "text/plain": [
       "LogisticRegression(C=0.0001, max_iter=1000)"
      ]
     },
     "execution_count": 63,
     "metadata": {},
     "output_type": "execute_result"
    }
   ],
   "source": [
    "from sklearn.model_selection import validation_curve\n",
    "min_p = 0.0001\n",
    "max_p = 0.3\n",
    "step = 0.02\n",
    "param = 'C'\n",
    "cv = 5\n",
    "scoring = 'f1_micro'\n",
    "model = LogisticRegression(max_iter=1000)\n",
    "\n",
    "train_scores, test_scores = validation_curve(model, \n",
    "                                             X, \n",
    "                                             y, \n",
    "                                             param_name=param,\n",
    "                                             param_range=np.arange(min_p, max_p, step),\n",
    "                                             cv=cv,\n",
    "                                             scoring=scoring\n",
    "                                            )\n",
    "train = np.mean(train_scores, axis=1)\n",
    "test = np.mean(test_scores, axis=1)\n",
    "x_axis = np.arange(min_p, max_p, step)\n",
    "\n",
    "plt.plot(x_axis, train, color='red')\n",
    "plt.plot(x_axis, test, color='blue')\n",
    "plt.show()\n",
    "\n",
    "index = np.argmax(test)\n",
    "best_p = min_p + index * step\n",
    "best_p\n",
    "\n",
    "model.set_params(C=best_p)"
   ]
  },
  {
   "cell_type": "markdown",
   "metadata": {},
   "source": [
    "### 4.3) Find best hyperparameters for a model"
   ]
  },
  {
   "cell_type": "code",
   "execution_count": 64,
   "metadata": {},
   "outputs": [
    {
     "name": "stdout",
     "output_type": "stream",
     "text": [
      "0.6604523985634548\n",
      "{'C': 0.1}\n"
     ]
    }
   ],
   "source": [
    "# Grid Search Parameter Tuning\n",
    "from sklearn.model_selection import GridSearchCV\n",
    "model = LogisticRegression(max_iter=1000)\n",
    "scoring = 'f1_micro'\n",
    "C=np.arange(0.1, 2, 0.1)\n",
    "\n",
    "param_grid = dict(C=C)\n",
    "grid = GridSearchCV(estimator=model,param_grid=param_grid,cv=5)\n",
    "grid.fit(X,y)\n",
    "print(grid.best_score_)\n",
    "print(grid.best_params_)"
   ]
  },
  {
   "cell_type": "code",
   "execution_count": 65,
   "metadata": {},
   "outputs": [
    {
     "name": "stdout",
     "output_type": "stream",
     "text": [
      "0.05204822828645228\n",
      "{'alpha': 0.005522117123602399}\n",
      "0.005522117123602399\n"
     ]
    }
   ],
   "source": [
    "# Random Search Parameter Tuning\n",
    "from scipy.stats import uniform\n",
    "from sklearn.model_selection import RandomizedSearchCV\n",
    "from sklearn.linear_model import Ridge\n",
    "param_grid = {'alpha':uniform()}\n",
    "seed = 42\n",
    "iterations = 100\n",
    "model = Ridge()\n",
    "rsearch = RandomizedSearchCV(estimator=model,param_distributions=param_grid,n_iter=iterations,random_state=seed)\n",
    "rsearch.fit(X,y)\n",
    "print(rsearch.best_score_)\n",
    "print(rsearch.best_params_)\n",
    "print(rsearch.best_estimator_.alpha)"
   ]
  },
  {
   "cell_type": "code",
   "execution_count": null,
   "metadata": {},
   "outputs": [],
   "source": []
  }
 ],
 "metadata": {
  "celltoolbar": "Raw Cell Format",
  "kernelspec": {
   "display_name": "data-science-quick-ref",
   "language": "python",
   "name": "data-science-quick-ref"
  },
  "language_info": {
   "codemirror_mode": {
    "name": "ipython",
    "version": 3
   },
   "file_extension": ".py",
   "mimetype": "text/x-python",
   "name": "python",
   "nbconvert_exporter": "python",
   "pygments_lexer": "ipython3",
   "version": "3.6.9"
  }
 },
 "nbformat": 4,
 "nbformat_minor": 2
}
